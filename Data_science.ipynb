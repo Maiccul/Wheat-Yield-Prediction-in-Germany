{
  "metadata": {
    "kernelspec": {
      "name": "python",
      "display_name": "Python (Pyodide)",
      "language": "python"
    },
    "language_info": {
      "codemirror_mode": {
        "name": "python",
        "version": 3
      },
      "file_extension": ".py",
      "mimetype": "text/x-python",
      "name": "python",
      "nbconvert_exporter": "python",
      "pygments_lexer": "ipython3",
      "version": "3.8"
    }
  },
  "nbformat_minor": 4,
  "nbformat": 4,
  "cells": [
    {
      "cell_type": "code",
      "source": "# Import the libraries\nimport pandas as pd\nimport numpy as np\nimport requests\nimport datetime\nimport statistics\n",
      "metadata": {
        "trusted": true
      },
      "outputs": [
        {
          "name": "stderr",
          "text": "<ipython-input-2-2455503a6f1f>:2: DeprecationWarning: \nPyarrow will become a required dependency of pandas in the next major release of pandas (pandas 3.0),\n(to allow more performant data types, such as the Arrow string type, and better interoperability with other libraries)\nbut was not found to be installed on your system.\nIf this would cause problems for you,\nplease provide us feedback at https://github.com/pandas-dev/pandas/issues/54466\n        \n  import pandas as pd\n",
          "output_type": "stream"
        }
      ],
      "execution_count": 2
    },
    {
      "cell_type": "code",
      "source": "# Ingest the wheat yield data and organize it\nyears = pd.read_csv('wheat_yield.csv')\nhelper = {}\nfor i in years.columns:\n    helper[i]= years[i][2]\ndf_wheat_yield = pd.DataFrame(list(helper.items()), columns=['Years', 'Yield'])\ndf_wheat_yield",
      "metadata": {
        "trusted": true,
        "scrolled": true
      },
      "outputs": [
        {
          "execution_count": 3,
          "output_type": "execute_result",
          "data": {
            "text/plain": "   Years  Yield\n0   1950   25.7\n1   1951   28.6\n2   1952   27.5\n3   1953   27.4\n4   1954   26.1\n..   ...    ...\n69  2019   74.0\n70  2020   78.2\n71  2021   73.0\n72  2022   75.8\n73  2023   74.3\n\n[74 rows x 2 columns]",
            "text/html": "<div>\n<style scoped>\n    .dataframe tbody tr th:only-of-type {\n        vertical-align: middle;\n    }\n\n    .dataframe tbody tr th {\n        vertical-align: top;\n    }\n\n    .dataframe thead th {\n        text-align: right;\n    }\n</style>\n<table border=\"1\" class=\"dataframe\">\n  <thead>\n    <tr style=\"text-align: right;\">\n      <th></th>\n      <th>Years</th>\n      <th>Yield</th>\n    </tr>\n  </thead>\n  <tbody>\n    <tr>\n      <th>0</th>\n      <td>1950</td>\n      <td>25.7</td>\n    </tr>\n    <tr>\n      <th>1</th>\n      <td>1951</td>\n      <td>28.6</td>\n    </tr>\n    <tr>\n      <th>2</th>\n      <td>1952</td>\n      <td>27.5</td>\n    </tr>\n    <tr>\n      <th>3</th>\n      <td>1953</td>\n      <td>27.4</td>\n    </tr>\n    <tr>\n      <th>4</th>\n      <td>1954</td>\n      <td>26.1</td>\n    </tr>\n    <tr>\n      <th>...</th>\n      <td>...</td>\n      <td>...</td>\n    </tr>\n    <tr>\n      <th>69</th>\n      <td>2019</td>\n      <td>74.0</td>\n    </tr>\n    <tr>\n      <th>70</th>\n      <td>2020</td>\n      <td>78.2</td>\n    </tr>\n    <tr>\n      <th>71</th>\n      <td>2021</td>\n      <td>73.0</td>\n    </tr>\n    <tr>\n      <th>72</th>\n      <td>2022</td>\n      <td>75.8</td>\n    </tr>\n    <tr>\n      <th>73</th>\n      <td>2023</td>\n      <td>74.3</td>\n    </tr>\n  </tbody>\n</table>\n<p>74 rows × 2 columns</p>\n</div>"
          },
          "metadata": {}
        }
      ],
      "execution_count": 3
    },
    {
      "cell_type": "markdown",
      "source": "## Drought data for the wheat growth cycle",
      "metadata": {}
    },
    {
      "cell_type": "markdown",
      "source": "## Transform API weather data",
      "metadata": {}
    },
    {
      "cell_type": "code",
      "source": "# Ingest the weather data\ndf_weather = pd.read_csv(\"daily_datax.csv\")             \ndf_weather.head()",
      "metadata": {
        "trusted": true
      },
      "outputs": [
        {
          "execution_count": 4,
          "output_type": "execute_result",
          "data": {
            "text/plain": "   Column1           date  temperature_2m_max  temperature_2m_min  \\\n0        0  1/1/1950 2:00           -0.163750           -4.355417   \n1        1  1/2/1950 2:00            4.544583           -2.747083   \n2        2  3/1/1950 2:00            0.236250           -7.705417   \n3        3  3/2/1950 2:00            1.211250           -7.180417   \n4        4  3/3/1950 2:00            3.602917           -6.455417   \n\n   sunshine_duration  precipitation_sum  et0_fao_evapotranspiration  \n0         19761.6620           0.083333                   14.410975  \n1          7741.8267           4.333334                   24.274849  \n2         25016.4670           0.216667                   10.503711  \n3         30359.3670           0.083333                   11.052758  \n4         32220.7340           0.300000                   12.135287  ",
            "text/html": "<div>\n<style scoped>\n    .dataframe tbody tr th:only-of-type {\n        vertical-align: middle;\n    }\n\n    .dataframe tbody tr th {\n        vertical-align: top;\n    }\n\n    .dataframe thead th {\n        text-align: right;\n    }\n</style>\n<table border=\"1\" class=\"dataframe\">\n  <thead>\n    <tr style=\"text-align: right;\">\n      <th></th>\n      <th>Column1</th>\n      <th>date</th>\n      <th>temperature_2m_max</th>\n      <th>temperature_2m_min</th>\n      <th>sunshine_duration</th>\n      <th>precipitation_sum</th>\n      <th>et0_fao_evapotranspiration</th>\n    </tr>\n  </thead>\n  <tbody>\n    <tr>\n      <th>0</th>\n      <td>0</td>\n      <td>1/1/1950 2:00</td>\n      <td>-0.163750</td>\n      <td>-4.355417</td>\n      <td>19761.6620</td>\n      <td>0.083333</td>\n      <td>14.410975</td>\n    </tr>\n    <tr>\n      <th>1</th>\n      <td>1</td>\n      <td>1/2/1950 2:00</td>\n      <td>4.544583</td>\n      <td>-2.747083</td>\n      <td>7741.8267</td>\n      <td>4.333334</td>\n      <td>24.274849</td>\n    </tr>\n    <tr>\n      <th>2</th>\n      <td>2</td>\n      <td>3/1/1950 2:00</td>\n      <td>0.236250</td>\n      <td>-7.705417</td>\n      <td>25016.4670</td>\n      <td>0.216667</td>\n      <td>10.503711</td>\n    </tr>\n    <tr>\n      <th>3</th>\n      <td>3</td>\n      <td>3/2/1950 2:00</td>\n      <td>1.211250</td>\n      <td>-7.180417</td>\n      <td>30359.3670</td>\n      <td>0.083333</td>\n      <td>11.052758</td>\n    </tr>\n    <tr>\n      <th>4</th>\n      <td>4</td>\n      <td>3/3/1950 2:00</td>\n      <td>3.602917</td>\n      <td>-6.455417</td>\n      <td>32220.7340</td>\n      <td>0.300000</td>\n      <td>12.135287</td>\n    </tr>\n  </tbody>\n</table>\n</div>"
          },
          "metadata": {}
        }
      ],
      "execution_count": 4
    },
    {
      "cell_type": "code",
      "source": "# Remove duplicate index column\ndf_weather = df_weather.drop(df_weather.columns[0], axis=1)\n\n# Transform datetime data to pd standard\ndf_weather['date'] = pd.to_datetime(df_weather['date'])\n\ndf_weather.columns   ",
      "metadata": {
        "trusted": true
      },
      "outputs": [
        {
          "execution_count": 5,
          "output_type": "execute_result",
          "data": {
            "text/plain": "Index(['date', 'temperature_2m_max', 'temperature_2m_min', 'sunshine_duration',\n       'precipitation_sum', 'et0_fao_evapotranspiration'],\n      dtype='object')"
          },
          "metadata": {}
        }
      ],
      "execution_count": 5
    },
    {
      "cell_type": "code",
      "source": "# Filter between the relevant dates\ndf_weather = df_weather[df_weather['date'].dt.strftime('%m-%d').between('03-01','08-10')]\n\n# Calculate Growing Degree Days (GDD)\ndf_weather['temperature_2m_avg']= (df_weather['temperature_2m_max'] + df_weather['temperature_2m_min'])/2\n\n# Replace avg <0 with 0 \ndf_weather.loc[df_weather['temperature_2m_avg'] < 0, 'temperature_2m_avg'] = 0\n\n# Converting seconds to hours \ndf_weather['sunshine_duration'] = df_weather['sunshine_duration'].div(3600).round(2)\ndf_weather['sunshine_duration']",
      "metadata": {
        "trusted": true
      },
      "outputs": [
        {
          "execution_count": 6,
          "output_type": "execute_result",
          "data": {
            "text/plain": "2         6.95\n3         8.43\n4         8.95\n5         3.87\n6         3.54\n         ...  \n13778     5.01\n13779     8.94\n13780    11.42\n13781     8.07\n13782    13.00\nName: sunshine_duration, Length: 12225, dtype: float64"
          },
          "metadata": {}
        }
      ],
      "execution_count": 6
    },
    {
      "cell_type": "code",
      "source": "# Create dataframe with yearly data\nyears_df = pd.DataFrame({\n    'Year': df_weather['date'].dt.year.unique()\n})\n\n# Create dictionary for storing future values in years_df\ncols_dict = {}\n\n# Iterations to create yearly data on new df\nfor index in range(1950, 2023+1):\n    # Filter df for the current year\n    filtered_data = df_weather[df_weather['date'].dt.year == index]\n\n    # Count days when Temperature > 30\n    days_above_30 = filtered_data[filtered_data['temperature_2m_max'] > 30].shape[0]\n\n\n    # Precipitation avg for the 6-month period\n    precipitation_sum = filtered_data['precipitation_sum'].sum()\n\n    # Sunshine hours total and averages\n    sunshine_avg = filtered_data['sunshine_duration'].mean()\n\n    # Growing Degree Days (GDD)\n    gdd = filtered_data['temperature_2m_avg'].sum()\n\n    # Evapotranspiration total\n    et0_fao_evapotranspiration = filtered_data['et0_fao_evapotranspiration'].sum()\n    \n    # Store count in the dictionary\n    cols_dict[index] = {\n        'days_above_30degrees' : days_above_30,\n        'precipitation_sum' : precipitation_sum,\n        'sunshine_avg' : sunshine_avg,\n        'growing_degree_days' : gdd,\n        'evapotranspiration_sum' : et0_fao_evapotranspiration \n        \n    }",
      "metadata": {
        "trusted": true
      },
      "outputs": [],
      "execution_count": 7
    },
    {
      "cell_type": "code",
      "source": "# Assign the values from the dictionary to new columns in years_df\nfor name in cols_dict[years_df['Year'].iloc[0]].keys():  # Use the first year to get the keys\n    years_df[name] = years_df['Year'].map(lambda x: cols_dict[x][name])\n\nyears_df",
      "metadata": {
        "trusted": true
      },
      "outputs": [
        {
          "execution_count": 8,
          "output_type": "execute_result",
          "data": {
            "text/plain": "    Year  days_above_30degrees  precipitation_sum  sunshine_avg  \\\n0   1950                     0         326.250000     10.092393   \n1   1951                     0         371.450004      9.824110   \n2   1952                     3         272.266668     10.015828   \n3   1953                     0         354.533338     10.326994   \n4   1954                     0         380.433329      9.388405   \n..   ...                   ...                ...           ...   \n69  2019                     8         357.533335      9.877975   \n70  2020                     6         315.533337     10.407362   \n71  2021                     3         467.833338      9.969018   \n72  2022                     8         262.900004     10.853436   \n73  2023                     4         459.933335      9.793374   \n\n    growing_degree_days  evapotranspiration_sum  \n0           2098.062491             2624.882042  \n1           1904.548318             2706.235736  \n2           2083.840007             2531.561542  \n3           2070.079572             2575.040627  \n4           1849.079572             2692.333876  \n..                  ...                     ...  \n69          2326.124013             3028.859173  \n70          2231.015675             2884.648170  \n71          2062.932352             2851.701592  \n72          2295.799016             2829.613592  \n73          2222.824025             3084.439830  \n\n[74 rows x 6 columns]",
            "text/html": "<div>\n<style scoped>\n    .dataframe tbody tr th:only-of-type {\n        vertical-align: middle;\n    }\n\n    .dataframe tbody tr th {\n        vertical-align: top;\n    }\n\n    .dataframe thead th {\n        text-align: right;\n    }\n</style>\n<table border=\"1\" class=\"dataframe\">\n  <thead>\n    <tr style=\"text-align: right;\">\n      <th></th>\n      <th>Year</th>\n      <th>days_above_30degrees</th>\n      <th>precipitation_sum</th>\n      <th>sunshine_avg</th>\n      <th>growing_degree_days</th>\n      <th>evapotranspiration_sum</th>\n    </tr>\n  </thead>\n  <tbody>\n    <tr>\n      <th>0</th>\n      <td>1950</td>\n      <td>0</td>\n      <td>326.250000</td>\n      <td>10.092393</td>\n      <td>2098.062491</td>\n      <td>2624.882042</td>\n    </tr>\n    <tr>\n      <th>1</th>\n      <td>1951</td>\n      <td>0</td>\n      <td>371.450004</td>\n      <td>9.824110</td>\n      <td>1904.548318</td>\n      <td>2706.235736</td>\n    </tr>\n    <tr>\n      <th>2</th>\n      <td>1952</td>\n      <td>3</td>\n      <td>272.266668</td>\n      <td>10.015828</td>\n      <td>2083.840007</td>\n      <td>2531.561542</td>\n    </tr>\n    <tr>\n      <th>3</th>\n      <td>1953</td>\n      <td>0</td>\n      <td>354.533338</td>\n      <td>10.326994</td>\n      <td>2070.079572</td>\n      <td>2575.040627</td>\n    </tr>\n    <tr>\n      <th>4</th>\n      <td>1954</td>\n      <td>0</td>\n      <td>380.433329</td>\n      <td>9.388405</td>\n      <td>1849.079572</td>\n      <td>2692.333876</td>\n    </tr>\n    <tr>\n      <th>...</th>\n      <td>...</td>\n      <td>...</td>\n      <td>...</td>\n      <td>...</td>\n      <td>...</td>\n      <td>...</td>\n    </tr>\n    <tr>\n      <th>69</th>\n      <td>2019</td>\n      <td>8</td>\n      <td>357.533335</td>\n      <td>9.877975</td>\n      <td>2326.124013</td>\n      <td>3028.859173</td>\n    </tr>\n    <tr>\n      <th>70</th>\n      <td>2020</td>\n      <td>6</td>\n      <td>315.533337</td>\n      <td>10.407362</td>\n      <td>2231.015675</td>\n      <td>2884.648170</td>\n    </tr>\n    <tr>\n      <th>71</th>\n      <td>2021</td>\n      <td>3</td>\n      <td>467.833338</td>\n      <td>9.969018</td>\n      <td>2062.932352</td>\n      <td>2851.701592</td>\n    </tr>\n    <tr>\n      <th>72</th>\n      <td>2022</td>\n      <td>8</td>\n      <td>262.900004</td>\n      <td>10.853436</td>\n      <td>2295.799016</td>\n      <td>2829.613592</td>\n    </tr>\n    <tr>\n      <th>73</th>\n      <td>2023</td>\n      <td>4</td>\n      <td>459.933335</td>\n      <td>9.793374</td>\n      <td>2222.824025</td>\n      <td>3084.439830</td>\n    </tr>\n  </tbody>\n</table>\n<p>74 rows × 6 columns</p>\n</div>"
          },
          "metadata": {}
        }
      ],
      "execution_count": 8
    },
    {
      "cell_type": "markdown",
      "source": "### Adding SPI (Standard Precipitation Index) in DataFrame\nSPI = (P-P*) /  σp\nP = precipitation\np* = mean precipitation\nσp = standard deviation of precipitation",
      "metadata": {}
    },
    {
      "cell_type": "code",
      "source": "# SPI Drought Index : values & mean\nvalues = [year['precipitation_sum'] for year in cols_dict.values()]\nmean_value = np.mean(values)\n# Standard deviation : \nstd = statistics.stdev(values)\n# Create new column SPI\nyears_df['SPI'] = (years_df['precipitation_sum'] - mean_value)/std",
      "metadata": {
        "trusted": true
      },
      "outputs": [],
      "execution_count": 9
    },
    {
      "cell_type": "code",
      "source": "# Rounding variables based on use case\nyears_df['evapotranspiration_sum'] = years_df['evapotranspiration_sum'].round(4)\nyears_df['precipitation_sum'] = years_df['precipitation_sum'].round(2)\nyears_df['growing_degree_days'] = years_df['growing_degree_days'].round()\nyears_df['sunshine_avg'] = years_df['sunshine_avg'].round(2)\nyears_df['SPI'] = years_df['SPI'].round(2)",
      "metadata": {
        "trusted": true
      },
      "outputs": [],
      "execution_count": 10
    },
    {
      "cell_type": "code",
      "source": "# Add wheat yield column on position 1 in main dataframe\nyears_df.insert(1, \"Wheat_yield\", df_wheat_yield['Yield'])",
      "metadata": {
        "trusted": true,
        "scrolled": true
      },
      "outputs": [],
      "execution_count": 11
    },
    {
      "cell_type": "markdown",
      "source": "Normalizing wheat yield to account for technological progress",
      "metadata": {}
    },
    {
      "cell_type": "code",
      "source": "# Dictionary to store wheat yields\ndict_df = years_df.set_index('Year')['Wheat_yield'].to_dict()\n",
      "metadata": {
        "trusted": true
      },
      "outputs": [],
      "execution_count": 12
    },
    {
      "cell_type": "code",
      "source": "def wheat_yield_coefficient_WE(year):\n    base_year = 1961\n    transition_year_1 = 1980\n    transition_year_2 = 2000\n    end_year = 2019\n    base_yield = 2.6  # Minimum yield from the table\n\n    if year < base_year:\n        return 0  # For years before 1961, no increase\n    elif year <= transition_year_1:\n        # 0.11 Tha−1 Year−1 increase from 1961 to 1980\n        return 0.11 * (year - base_year)\n    elif year <= transition_year_2:\n        # 0.11 Tha−1 Year−1 increase from 1961 to 2000\n        return 0.11 * (year - base_year)\n    elif year <= end_year:\n        # 0.11 Tha−1 Year−1 increase from 1961 to 2000, then 0.01 Tha−1 Year−1 increase from 2001 to 2019\n        return 0.11 * (transition_year_2 - base_year) + 0.01 * (year - transition_year_2)\n    else:\n        # For years after 2019, continue with the 2001-2019 rate\n        return 0.11 * (transition_year_2 - base_year) + 0.01 * (end_year - transition_year_2) + 0.01 * (year - end_year)\n\n# Function to normalize yield, the data being in dt instead of tonnes.\ndef normalize_yield(year, value):\n    return value - wheat_yield_coefficient_WE(year)*10\n\n# To normalize the entire dataset:\nnormalized_yields = {year: normalize_yield(year, yield_value) for year, yield_value in dict_df.items()}",
      "metadata": {
        "trusted": true
      },
      "outputs": [],
      "execution_count": 13
    },
    {
      "cell_type": "markdown",
      "source": "The function calculates the absolute increase in tonnes per hectare since 1961.\nIt uses the rates directly: 0.11 Tha−1 Year−1 from 1961 to 2000, and 0.01 Tha−1 Year−1 from 2001 onwards.\nThe wheat_yield_coefficient_WE function now returns the total increase in tonnes per hectare since 1961.\nThe normalize_yield function now subtracts the coefficient from the actual yield to get the 1961-equivalent yield.\nWe use the minimum yield (2.6 Tha−1) from the table(see documentation) as a base yield for 1961.",
      "metadata": {}
    },
    {
      "cell_type": "code",
      "source": "# Creating secondary dataframe with normalized yields\ndf_normalized = years_df.copy()\n\n# Replace the yields with normalized yields\ndf_normalized['Wheat_yield'] = df_normalized['Year'].map(normalized_yields)\n\n# Rounding yields\ndf_normalized['Wheat_yield'] = df_normalized['Wheat_yield'].round(1)\ndf_normalized.tail(10)",
      "metadata": {
        "trusted": true
      },
      "outputs": [
        {
          "execution_count": 14,
          "output_type": "execute_result",
          "data": {
            "text/plain": "    Year  Wheat_yield  days_above_30degrees  precipitation_sum  sunshine_avg  \\\n64  2014         42.0                     3             346.23         10.40   \n65  2015         36.5                     8             294.17         10.35   \n66  2016         31.9                     1             382.98          9.88   \n67  2017         31.8                     1             464.92          9.51   \n68  2018         22.0                    14             280.18         10.50   \n69  2019         29.2                     8             357.53          9.88   \n70  2020         33.3                     6             315.53         10.41   \n71  2021         28.0                     3             467.83          9.97   \n72  2022         30.7                     8             262.90         10.85   \n73  2023         29.1                     4             459.93          9.79   \n\n    growing_degree_days  evapotranspiration_sum   SPI  \n64               2288.0               2458.8316 -0.51  \n65               2166.0               2720.8699 -1.30  \n66               2112.0               2533.9247  0.04  \n67               2257.0               2936.4327  1.29  \n68               2479.0               2798.7857 -1.51  \n69               2326.0               3028.8592 -0.34  \n70               2231.0               2884.6482 -0.98  \n71               2063.0               2851.7016  1.33  \n72               2296.0               2829.6136 -1.78  \n73               2223.0               3084.4398  1.21  ",
            "text/html": "<div>\n<style scoped>\n    .dataframe tbody tr th:only-of-type {\n        vertical-align: middle;\n    }\n\n    .dataframe tbody tr th {\n        vertical-align: top;\n    }\n\n    .dataframe thead th {\n        text-align: right;\n    }\n</style>\n<table border=\"1\" class=\"dataframe\">\n  <thead>\n    <tr style=\"text-align: right;\">\n      <th></th>\n      <th>Year</th>\n      <th>Wheat_yield</th>\n      <th>days_above_30degrees</th>\n      <th>precipitation_sum</th>\n      <th>sunshine_avg</th>\n      <th>growing_degree_days</th>\n      <th>evapotranspiration_sum</th>\n      <th>SPI</th>\n    </tr>\n  </thead>\n  <tbody>\n    <tr>\n      <th>64</th>\n      <td>2014</td>\n      <td>42.0</td>\n      <td>3</td>\n      <td>346.23</td>\n      <td>10.40</td>\n      <td>2288.0</td>\n      <td>2458.8316</td>\n      <td>-0.51</td>\n    </tr>\n    <tr>\n      <th>65</th>\n      <td>2015</td>\n      <td>36.5</td>\n      <td>8</td>\n      <td>294.17</td>\n      <td>10.35</td>\n      <td>2166.0</td>\n      <td>2720.8699</td>\n      <td>-1.30</td>\n    </tr>\n    <tr>\n      <th>66</th>\n      <td>2016</td>\n      <td>31.9</td>\n      <td>1</td>\n      <td>382.98</td>\n      <td>9.88</td>\n      <td>2112.0</td>\n      <td>2533.9247</td>\n      <td>0.04</td>\n    </tr>\n    <tr>\n      <th>67</th>\n      <td>2017</td>\n      <td>31.8</td>\n      <td>1</td>\n      <td>464.92</td>\n      <td>9.51</td>\n      <td>2257.0</td>\n      <td>2936.4327</td>\n      <td>1.29</td>\n    </tr>\n    <tr>\n      <th>68</th>\n      <td>2018</td>\n      <td>22.0</td>\n      <td>14</td>\n      <td>280.18</td>\n      <td>10.50</td>\n      <td>2479.0</td>\n      <td>2798.7857</td>\n      <td>-1.51</td>\n    </tr>\n    <tr>\n      <th>69</th>\n      <td>2019</td>\n      <td>29.2</td>\n      <td>8</td>\n      <td>357.53</td>\n      <td>9.88</td>\n      <td>2326.0</td>\n      <td>3028.8592</td>\n      <td>-0.34</td>\n    </tr>\n    <tr>\n      <th>70</th>\n      <td>2020</td>\n      <td>33.3</td>\n      <td>6</td>\n      <td>315.53</td>\n      <td>10.41</td>\n      <td>2231.0</td>\n      <td>2884.6482</td>\n      <td>-0.98</td>\n    </tr>\n    <tr>\n      <th>71</th>\n      <td>2021</td>\n      <td>28.0</td>\n      <td>3</td>\n      <td>467.83</td>\n      <td>9.97</td>\n      <td>2063.0</td>\n      <td>2851.7016</td>\n      <td>1.33</td>\n    </tr>\n    <tr>\n      <th>72</th>\n      <td>2022</td>\n      <td>30.7</td>\n      <td>8</td>\n      <td>262.90</td>\n      <td>10.85</td>\n      <td>2296.0</td>\n      <td>2829.6136</td>\n      <td>-1.78</td>\n    </tr>\n    <tr>\n      <th>73</th>\n      <td>2023</td>\n      <td>29.1</td>\n      <td>4</td>\n      <td>459.93</td>\n      <td>9.79</td>\n      <td>2223.0</td>\n      <td>3084.4398</td>\n      <td>1.21</td>\n    </tr>\n  </tbody>\n</table>\n</div>"
          },
          "metadata": {}
        }
      ],
      "execution_count": 14
    },
    {
      "cell_type": "code",
      "source": "# Export the data\ndf_normalized.to_csv('wheat.csv', index=False)\nprint(\"DataFrame has been exported to csv\")",
      "metadata": {
        "trusted": true
      },
      "outputs": [
        {
          "name": "stdout",
          "text": "DataFrame has been exported to csv\n",
          "output_type": "stream"
        }
      ],
      "execution_count": 15
    },
    {
      "cell_type": "code",
      "source": "",
      "metadata": {
        "trusted": true
      },
      "outputs": [],
      "execution_count": null
    }
  ]
}